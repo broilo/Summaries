{
 "cells": [
  {
   "cell_type": "code",
   "execution_count": 2,
   "metadata": {},
   "outputs": [
    {
     "data": {
      "text/html": [
       "\n",
       "            <div>\n",
       "                <p><b>SparkSession - hive</b></p>\n",
       "                \n",
       "        <div>\n",
       "            <p><b>SparkContext</b></p>\n",
       "\n",
       "            <p><a href=\"http://192.168.0.6:4040\">Spark UI</a></p>\n",
       "\n",
       "            <dl>\n",
       "              <dt>Version</dt>\n",
       "                <dd><code>v3.0.1</code></dd>\n",
       "              <dt>Master</dt>\n",
       "                <dd><code>local[*]</code></dd>\n",
       "              <dt>AppName</dt>\n",
       "                <dd><code>PySparkShell</code></dd>\n",
       "            </dl>\n",
       "        </div>\n",
       "        \n",
       "            </div>\n",
       "        "
      ],
      "text/plain": [
       "<pyspark.sql.session.SparkSession at 0x7fb7889d6d90>"
      ]
     },
     "execution_count": 2,
     "metadata": {},
     "output_type": "execute_result"
    }
   ],
   "source": [
    "spark"
   ]
  },
  {
   "cell_type": "markdown",
   "metadata": {},
   "source": [
    "## O conjunto de dados foi baixado no [Portal da Transparência](http://www.portaltransparencia.gov.br/download-de-dados/viagens)"
   ]
  },
  {
   "cell_type": "code",
   "execution_count": null,
   "metadata": {},
   "outputs": [],
   "source": [
    "### Para transformar o csv para o formato de UTF-8:\n",
    "## rodar no terminal terminal: $ iconv -f ISO-8859-1 -t UTF-8 2019_Pagamento.csv > 2019_Pagamento_utf8.csv"
   ]
  },
  {
   "cell_type": "code",
   "execution_count": 8,
   "metadata": {},
   "outputs": [],
   "source": [
    "PATH = \"/home/broilo/Downloads/2019_20201025_Viagens/2019_Pagamento_utf8.csv\""
   ]
  },
  {
   "cell_type": "code",
   "execution_count": 9,
   "metadata": {},
   "outputs": [],
   "source": [
    "df = spark.read.csv(PATH, header=True, sep=\";\")"
   ]
  },
  {
   "cell_type": "code",
   "execution_count": 10,
   "metadata": {},
   "outputs": [
    {
     "name": "stdout",
     "output_type": "stream",
     "text": [
      "root\n",
      " |-- Identificador do processo de viagem: string (nullable = true)\n",
      " |-- Número da Proposta (PCDP): string (nullable = true)\n",
      " |-- Código do órgão superior: string (nullable = true)\n",
      " |-- Nome do órgão superior: string (nullable = true)\n",
      " |-- Codigo do órgão pagador: string (nullable = true)\n",
      " |-- Nome do órgao pagador: string (nullable = true)\n",
      " |-- Código da unidade gestora pagadora: string (nullable = true)\n",
      " |-- Nome da unidade gestora pagadora: string (nullable = true)\n",
      " |-- Tipo de pagamento: string (nullable = true)\n",
      " |-- Valor: string (nullable = true)\n",
      "\n"
     ]
    }
   ],
   "source": [
    "df.printSchema()"
   ]
  },
  {
   "cell_type": "code",
   "execution_count": 11,
   "metadata": {},
   "outputs": [
    {
     "data": {
      "text/html": [
       "<div>\n",
       "<style scoped>\n",
       "    .dataframe tbody tr th:only-of-type {\n",
       "        vertical-align: middle;\n",
       "    }\n",
       "\n",
       "    .dataframe tbody tr th {\n",
       "        vertical-align: top;\n",
       "    }\n",
       "\n",
       "    .dataframe thead th {\n",
       "        text-align: right;\n",
       "    }\n",
       "</style>\n",
       "<table border=\"1\" class=\"dataframe\">\n",
       "  <thead>\n",
       "    <tr style=\"text-align: right;\">\n",
       "      <th></th>\n",
       "      <th>Identificador do processo de viagem</th>\n",
       "      <th>Número da Proposta (PCDP)</th>\n",
       "      <th>Código do órgão superior</th>\n",
       "      <th>Nome do órgão superior</th>\n",
       "      <th>Codigo do órgão pagador</th>\n",
       "      <th>Nome do órgao pagador</th>\n",
       "      <th>Código da unidade gestora pagadora</th>\n",
       "      <th>Nome da unidade gestora pagadora</th>\n",
       "      <th>Tipo de pagamento</th>\n",
       "      <th>Valor</th>\n",
       "    </tr>\n",
       "  </thead>\n",
       "  <tbody>\n",
       "    <tr>\n",
       "      <th>0</th>\n",
       "      <td>0000000000015045825</td>\n",
       "      <td>Sem informação</td>\n",
       "      <td>26000</td>\n",
       "      <td>Ministério da Educação</td>\n",
       "      <td>26291</td>\n",
       "      <td>Fundação Coordenação de Aperfeiçoamento de Pes...</td>\n",
       "      <td>154003</td>\n",
       "      <td>FUND.COORD.DE APERF.DE PESSOAL NIVEL SUPERIOR</td>\n",
       "      <td>PASSAGEM</td>\n",
       "      <td>3406,33</td>\n",
       "    </tr>\n",
       "    <tr>\n",
       "      <th>1</th>\n",
       "      <td>0000000000015100682</td>\n",
       "      <td>Sem informação</td>\n",
       "      <td>26000</td>\n",
       "      <td>Ministério da Educação</td>\n",
       "      <td>26291</td>\n",
       "      <td>Fundação Coordenação de Aperfeiçoamento de Pes...</td>\n",
       "      <td>154003</td>\n",
       "      <td>FUND.COORD.DE APERF.DE PESSOAL NIVEL SUPERIOR</td>\n",
       "      <td>PASSAGEM</td>\n",
       "      <td>2925,83</td>\n",
       "    </tr>\n",
       "    <tr>\n",
       "      <th>2</th>\n",
       "      <td>0000000000015114708</td>\n",
       "      <td>Sem informação</td>\n",
       "      <td>26000</td>\n",
       "      <td>Ministério da Educação</td>\n",
       "      <td>26291</td>\n",
       "      <td>Fundação Coordenação de Aperfeiçoamento de Pes...</td>\n",
       "      <td>154003</td>\n",
       "      <td>FUND.COORD.DE APERF.DE PESSOAL NIVEL SUPERIOR</td>\n",
       "      <td>PASSAGEM</td>\n",
       "      <td>2760,02</td>\n",
       "    </tr>\n",
       "    <tr>\n",
       "      <th>3</th>\n",
       "      <td>0000000000015163874</td>\n",
       "      <td>Sem informação</td>\n",
       "      <td>26000</td>\n",
       "      <td>Ministério da Educação</td>\n",
       "      <td>26291</td>\n",
       "      <td>Fundação Coordenação de Aperfeiçoamento de Pes...</td>\n",
       "      <td>154003</td>\n",
       "      <td>FUND.COORD.DE APERF.DE PESSOAL NIVEL SUPERIOR</td>\n",
       "      <td>PASSAGEM</td>\n",
       "      <td>2875,92</td>\n",
       "    </tr>\n",
       "    <tr>\n",
       "      <th>4</th>\n",
       "      <td>0000000000015166192</td>\n",
       "      <td>Sem informação</td>\n",
       "      <td>26000</td>\n",
       "      <td>Ministério da Educação</td>\n",
       "      <td>26291</td>\n",
       "      <td>Fundação Coordenação de Aperfeiçoamento de Pes...</td>\n",
       "      <td>154003</td>\n",
       "      <td>FUND.COORD.DE APERF.DE PESSOAL NIVEL SUPERIOR</td>\n",
       "      <td>PASSAGEM</td>\n",
       "      <td>2420,48</td>\n",
       "    </tr>\n",
       "  </tbody>\n",
       "</table>\n",
       "</div>"
      ],
      "text/plain": [
       "  Identificador do processo de viagem Número da Proposta (PCDP)  \\\n",
       "0                 0000000000015045825            Sem informação   \n",
       "1                 0000000000015100682            Sem informação   \n",
       "2                 0000000000015114708            Sem informação   \n",
       "3                 0000000000015163874            Sem informação   \n",
       "4                 0000000000015166192            Sem informação   \n",
       "\n",
       "  Código do órgão superior  Nome do órgão superior Codigo do órgão pagador  \\\n",
       "0                    26000  Ministério da Educação                   26291   \n",
       "1                    26000  Ministério da Educação                   26291   \n",
       "2                    26000  Ministério da Educação                   26291   \n",
       "3                    26000  Ministério da Educação                   26291   \n",
       "4                    26000  Ministério da Educação                   26291   \n",
       "\n",
       "                               Nome do órgao pagador  \\\n",
       "0  Fundação Coordenação de Aperfeiçoamento de Pes...   \n",
       "1  Fundação Coordenação de Aperfeiçoamento de Pes...   \n",
       "2  Fundação Coordenação de Aperfeiçoamento de Pes...   \n",
       "3  Fundação Coordenação de Aperfeiçoamento de Pes...   \n",
       "4  Fundação Coordenação de Aperfeiçoamento de Pes...   \n",
       "\n",
       "  Código da unidade gestora pagadora  \\\n",
       "0                             154003   \n",
       "1                             154003   \n",
       "2                             154003   \n",
       "3                             154003   \n",
       "4                             154003   \n",
       "\n",
       "                Nome da unidade gestora pagadora Tipo de pagamento    Valor  \n",
       "0  FUND.COORD.DE APERF.DE PESSOAL NIVEL SUPERIOR          PASSAGEM  3406,33  \n",
       "1  FUND.COORD.DE APERF.DE PESSOAL NIVEL SUPERIOR          PASSAGEM  2925,83  \n",
       "2  FUND.COORD.DE APERF.DE PESSOAL NIVEL SUPERIOR          PASSAGEM  2760,02  \n",
       "3  FUND.COORD.DE APERF.DE PESSOAL NIVEL SUPERIOR          PASSAGEM  2875,92  \n",
       "4  FUND.COORD.DE APERF.DE PESSOAL NIVEL SUPERIOR          PASSAGEM  2420,48  "
      ]
     },
     "execution_count": 11,
     "metadata": {},
     "output_type": "execute_result"
    }
   ],
   "source": [
    "df.limit(5).toPandas()"
   ]
  },
  {
   "cell_type": "code",
   "execution_count": null,
   "metadata": {},
   "outputs": [],
   "source": []
  }
 ],
 "metadata": {
  "kernelspec": {
   "display_name": "Python 3",
   "language": "python",
   "name": "python3"
  },
  "language_info": {
   "codemirror_mode": {
    "name": "ipython",
    "version": 3
   },
   "file_extension": ".py",
   "mimetype": "text/x-python",
   "name": "python",
   "nbconvert_exporter": "python",
   "pygments_lexer": "ipython3",
   "version": "3.8.3"
  }
 },
 "nbformat": 4,
 "nbformat_minor": 4
}
